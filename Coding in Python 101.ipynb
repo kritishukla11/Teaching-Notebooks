{
 "cells": [
  {
   "cell_type": "markdown",
   "id": "cb88a338",
   "metadata": {},
   "source": [
    "## Coding in Python 101\n",
    "\n",
    "### Background\n",
    "Coding is the process of using a programming language to get a computer to behave how you want it to. Python is a general-purpose language, meaning it can be used to create a variety of different programs. Python is often used to build websites and software, automate tasks, and conduct data analysis.  \n",
    "\n",
    "### Terminology\n",
    "**Algorithms**: Algorithms are processes or step by step procedures that are used to solve problems.  \n",
    "\n",
    "**Functions**: A function is a group of statements that performs a specific task. Unlike other statements in a script, functions only run when they are called. **Parameters** are variables that are defined in the function declaration. **Arguments** are variables given to functions for execution. To call a function, use the function name followed by parentheses.\n",
    "\n",
    "**Index**: Index numbers are the location of specific value stored in Python lists or tuples. The first index value of a list is always 0.\n",
    "\n",
    "**List**: Lists are one of four ways to store data in Python, and they are most commonly used. Lists are used to store multiple items in a single variable. Lists are created using square brackets. List items are ordered, changeable, and allow duplicate values.\n",
    "\n",
    "`fruits = [\"apple\", \"banana\", \"cherry\"]`\n",
    "\n",
    "**Numeric data**: Numeric data can be stored as integers, floating point numbers, and **complex numbers**. **Integers (int)** are whole numbers, while **floating point numbers (float)** can have decimals.\n",
    "\n",
    "**Variables**: Variables are \"containers\" that hold pieces of information, such as numbers, words or other information. In Python, information is assigned to variables using a single equals sign (=). Python is case sensitive, so VAR and var would be two different variables. Variables cannot start with numbers. Variables can only contain alphanumeric characters and underscores.\n",
    "\n",
    "**Scripts**: In Python, every line of code tells the computer to do something, and a document full of lines of code is called a script. Scripts tell different software on a computer how to run.\n",
    "\n",
    "**Statements**: Statements are instructions that the Python interpreter can execute. \n",
    "\n",
    "**Strings**: Strings in Python are a sequence of Unicode characters, such as text. Strings are always contained by single or double quotes.  \n",
    "\n",
    "### Syntax\n",
    "\n",
    "**Commenting**: Python has commenting capability for the purpose of in-code documentation. Comments start with a #. Python will assume the rest of the line is a comment. Python does not have syntax for multiline comments.\n",
    "\n",
    "`#This is a comment.\n",
    "     print(\"Hello, World!\")`\n",
    "\n",
    "**Indentation**: Python uses indentation to indicate blocks of code. Each block of code is executed as a single unit. When using multiple lines for one block of code, it is important to pay attention to the indentation at the start of each line. However, whitespace within lines will be ignored by Python. \n",
    "\n",
    "Correct:\n",
    "\n",
    "`if 5 > 2:\n",
    "    print(\"Five is greater than two!\")`\n",
    "    \n",
    "Correct:\n",
    "\n",
    "`if 5 > 2:\n",
    "    print(   \"Five is greater than two!\")`\n",
    "\n",
    "Incorrect:\n",
    "\n",
    "`if 5 > 2:\n",
    " print(\"Five is greater than two!\")`\n",
    " \n",
    "**Lines**: Multiline statements must have a backslash (\\) at the end of each line. If one line contains multiple statements, then a semicolon (;) must be used to separate the blocks of code. Python ignores blank lines, so these do not have an effect on your code. \n",
    " \n",
    "**Reserved words**: These are words that you should avoid using in your code because they already have a pretermined meaning in the language. Words like \"as\" or \"if\" are reserved words. A complete list can be found online. \n",
    "\n"
   ]
  }
 ],
 "metadata": {
  "kernelspec": {
   "display_name": "Python 3",
   "language": "python",
   "name": "python3"
  },
  "language_info": {
   "codemirror_mode": {
    "name": "ipython",
    "version": 3
   },
   "file_extension": ".py",
   "mimetype": "text/x-python",
   "name": "python",
   "nbconvert_exporter": "python",
   "pygments_lexer": "ipython3",
   "version": "3.8.8"
  }
 },
 "nbformat": 4,
 "nbformat_minor": 5
}
