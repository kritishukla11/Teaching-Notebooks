{
 "cells": [
  {
   "cell_type": "markdown",
   "id": "51890bbf",
   "metadata": {},
   "source": [
    "# Working With Proteins From the PDB\n",
    "\n",
    "The Protein Data Bank (PDB) stores information about the 3D shapes of proteins, nucleic acids, and complex assemblies. This data bank can be found online at https://www.rcsb.org/. In this tutorial, we will go through how to visualize proteins from the PDB, and how to map mutation data from other databases to the PDB. "
   ]
  },
  {
   "cell_type": "markdown",
   "id": "61a34c5d",
   "metadata": {},
   "source": [
    "## Visualizing Proteins using Py3Dmol\n",
    "\n",
    "Py3Dmol downloads PDB structures using the compressed binary MMTF file format from https://mmtf.rcsb.org. For more information, read the documentation at https://pypi.org/project/py3Dmol/."
   ]
  },
  {
   "cell_type": "code",
   "execution_count": 13,
   "id": "e78af59a",
   "metadata": {},
   "outputs": [],
   "source": [
    "import py3Dmol"
   ]
  },
  {
   "cell_type": "markdown",
   "id": "fec8f21e",
   "metadata": {},
   "source": [
    "Here, we are visualizing the human protein hemoglobin from the PDB"
   ]
  },
  {
   "cell_type": "code",
   "execution_count": 23,
   "id": "d3ed612f",
   "metadata": {},
   "outputs": [
    {
     "data": {
      "application/3dmoljs_load.v0": "<div id=\"3dmolviewer_165730944667221\"  style=\"position: relative; width: 640px; height: 480px\">\n        <p id=\"3dmolwarning_165730944667221\" style=\"background-color:#ffcccc;color:black\">You appear to be running in JupyterLab (or JavaScript failed to load for some other reason).  You need to install the 3dmol extension: <br>\n        <tt>jupyter labextension install jupyterlab_3dmol</tt></p>\n        </div>\n<script>\n\nvar loadScriptAsync = function(uri){\n  return new Promise((resolve, reject) => {\n    var tag = document.createElement('script');\n    tag.src = uri;\n    tag.async = true;\n    tag.onload = () => {\n      resolve();\n    };\n  var firstScriptTag = document.getElementsByTagName('script')[0];\n  firstScriptTag.parentNode.insertBefore(tag, firstScriptTag);\n});\n};\n\nif(typeof $3Dmolpromise === 'undefined') {\n$3Dmolpromise = null;\n  $3Dmolpromise = loadScriptAsync('https://3dmol.csb.pitt.edu/build/3Dmol.js');\n}\n\nvar viewer_165730944667221 = null;\nvar warn = document.getElementById(\"3dmolwarning_165730944667221\");\nif(warn) {\n    warn.parentNode.removeChild(warn);\n}\n$3Dmolpromise.then(function() {\nviewer_165730944667221 = $3Dmol.createViewer($(\"#3dmolviewer_165730944667221\"),{backgroundColor:\"white\"});\n$3Dmol.download(\"pdb:5WOG\", viewer_165730944667221, {}, function() {\n\tviewer_165730944667221.setStyle({\"cartoon\": {\"color\": \"spectrum\"}});\n\tviewer_165730944667221.setStyle({\"hetflag\": true},{\"stick\": {\"radius\": 0.3, \"singleBond\": false}});\n\tviewer_165730944667221.zoomTo();\nviewer_165730944667221.render();\n})\n});\n</script>",
      "text/html": [
       "<div id=\"3dmolviewer_165730944667221\"  style=\"position: relative; width: 640px; height: 480px\">\n",
       "        <p id=\"3dmolwarning_165730944667221\" style=\"background-color:#ffcccc;color:black\">You appear to be running in JupyterLab (or JavaScript failed to load for some other reason).  You need to install the 3dmol extension: <br>\n",
       "        <tt>jupyter labextension install jupyterlab_3dmol</tt></p>\n",
       "        </div>\n",
       "<script>\n",
       "\n",
       "var loadScriptAsync = function(uri){\n",
       "  return new Promise((resolve, reject) => {\n",
       "    var tag = document.createElement('script');\n",
       "    tag.src = uri;\n",
       "    tag.async = true;\n",
       "    tag.onload = () => {\n",
       "      resolve();\n",
       "    };\n",
       "  var firstScriptTag = document.getElementsByTagName('script')[0];\n",
       "  firstScriptTag.parentNode.insertBefore(tag, firstScriptTag);\n",
       "});\n",
       "};\n",
       "\n",
       "if(typeof $3Dmolpromise === 'undefined') {\n",
       "$3Dmolpromise = null;\n",
       "  $3Dmolpromise = loadScriptAsync('https://3dmol.csb.pitt.edu/build/3Dmol.js');\n",
       "}\n",
       "\n",
       "var viewer_165730944667221 = null;\n",
       "var warn = document.getElementById(\"3dmolwarning_165730944667221\");\n",
       "if(warn) {\n",
       "    warn.parentNode.removeChild(warn);\n",
       "}\n",
       "$3Dmolpromise.then(function() {\n",
       "viewer_165730944667221 = $3Dmol.createViewer($(\"#3dmolviewer_165730944667221\"),{backgroundColor:\"white\"});\n",
       "$3Dmol.download(\"pdb:5WOG\", viewer_165730944667221, {}, function() {\n",
       "\tviewer_165730944667221.setStyle({\"cartoon\": {\"color\": \"spectrum\"}});\n",
       "\tviewer_165730944667221.setStyle({\"hetflag\": true},{\"stick\": {\"radius\": 0.3, \"singleBond\": false}});\n",
       "\tviewer_165730944667221.zoomTo();\n",
       "viewer_165730944667221.render();\n",
       "})\n",
       "});\n",
       "</script>"
      ]
     },
     "metadata": {},
     "output_type": "display_data"
    }
   ],
   "source": [
    "hemoglobin = py3Dmol.view(query='pdb:5WOG') # 5WOG is the PDB ID\n",
    "hemoglobin.setStyle({'cartoon': {'color': 'spectrum'}}) # here, we are setting the color and animation style\n",
    "hemoglobin.setStyle({'hetflag': True}, {'stick':{'radius': 0.3, 'singleBond': False}}) # here, we are setting the display style\n",
    "hemoglobin.zoomTo() # this command makes sure the output zooms in on the protein\n",
    "hemoglobin.show() # this command shows us the protein"
   ]
  },
  {
   "cell_type": "markdown",
   "id": "a240c5d1",
   "metadata": {},
   "source": [
    "This protein looks a little messy! To make it easier, we can visualize the different subunits of hemoglobin in different colors."
   ]
  },
  {
   "cell_type": "code",
   "execution_count": 15,
   "id": "800b16c5",
   "metadata": {},
   "outputs": [
    {
     "data": {
      "application/3dmoljs_load.v0": "<div id=\"3dmolviewer_16573071393830452\"  style=\"position: relative; width: 640px; height: 480px\">\n        <p id=\"3dmolwarning_16573071393830452\" style=\"background-color:#ffcccc;color:black\">You appear to be running in JupyterLab (or JavaScript failed to load for some other reason).  You need to install the 3dmol extension: <br>\n        <tt>jupyter labextension install jupyterlab_3dmol</tt></p>\n        </div>\n<script>\n\nvar loadScriptAsync = function(uri){\n  return new Promise((resolve, reject) => {\n    var tag = document.createElement('script');\n    tag.src = uri;\n    tag.async = true;\n    tag.onload = () => {\n      resolve();\n    };\n  var firstScriptTag = document.getElementsByTagName('script')[0];\n  firstScriptTag.parentNode.insertBefore(tag, firstScriptTag);\n});\n};\n\nif(typeof $3Dmolpromise === 'undefined') {\n$3Dmolpromise = null;\n  $3Dmolpromise = loadScriptAsync('https://3dmol.csb.pitt.edu/build/3Dmol.js');\n}\n\nvar viewer_16573071393830452 = null;\nvar warn = document.getElementById(\"3dmolwarning_16573071393830452\");\nif(warn) {\n    warn.parentNode.removeChild(warn);\n}\n$3Dmolpromise.then(function() {\nviewer_16573071393830452 = $3Dmol.createViewer($(\"#3dmolviewer_16573071393830452\"),{backgroundColor:\"white\"});\n$3Dmol.download(\"pdb:5WOG\", viewer_16573071393830452, {}, function() {\n\tviewer_16573071393830452.setStyle({\"cartoon\": {\"color\": \"spectrum\"}});\n\tviewer_16573071393830452.setStyle({\"hetflag\": true},{\"stick\": {\"radius\": 0.3, \"singleBond\": false}});\n\tviewer_16573071393830452.zoomTo();\n\tviewer_16573071393830452.setStyle({\"chain\": [\"A\", \"B\"]},{\"cartoon\": {\"color\": \"yellow\"}});\n\tviewer_16573071393830452.addLabel(\"alpha subunits\",{\"fontColor\": \"yellow\", \"backgroundColor\": \"lightgray\"},{\"chain\": [\"A\", \"B\"]});\n\tviewer_16573071393830452.setStyle({\"chain\": [\"C\", \"D\"]},{\"cartoon\": {\"color\": \"blue\"}});\n\tviewer_16573071393830452.addLabel(\"beta subunits\",{\"fontColor\": \"blue\", \"backgroundColor\": \"lightgray\"},{\"chain\": [\"C\", \"D\"]});\nviewer_16573071393830452.render();\n})\n});\n</script>",
      "text/html": [
       "<div id=\"3dmolviewer_16573071393830452\"  style=\"position: relative; width: 640px; height: 480px\">\n",
       "        <p id=\"3dmolwarning_16573071393830452\" style=\"background-color:#ffcccc;color:black\">You appear to be running in JupyterLab (or JavaScript failed to load for some other reason).  You need to install the 3dmol extension: <br>\n",
       "        <tt>jupyter labextension install jupyterlab_3dmol</tt></p>\n",
       "        </div>\n",
       "<script>\n",
       "\n",
       "var loadScriptAsync = function(uri){\n",
       "  return new Promise((resolve, reject) => {\n",
       "    var tag = document.createElement('script');\n",
       "    tag.src = uri;\n",
       "    tag.async = true;\n",
       "    tag.onload = () => {\n",
       "      resolve();\n",
       "    };\n",
       "  var firstScriptTag = document.getElementsByTagName('script')[0];\n",
       "  firstScriptTag.parentNode.insertBefore(tag, firstScriptTag);\n",
       "});\n",
       "};\n",
       "\n",
       "if(typeof $3Dmolpromise === 'undefined') {\n",
       "$3Dmolpromise = null;\n",
       "  $3Dmolpromise = loadScriptAsync('https://3dmol.csb.pitt.edu/build/3Dmol.js');\n",
       "}\n",
       "\n",
       "var viewer_16573071393830452 = null;\n",
       "var warn = document.getElementById(\"3dmolwarning_16573071393830452\");\n",
       "if(warn) {\n",
       "    warn.parentNode.removeChild(warn);\n",
       "}\n",
       "$3Dmolpromise.then(function() {\n",
       "viewer_16573071393830452 = $3Dmol.createViewer($(\"#3dmolviewer_16573071393830452\"),{backgroundColor:\"white\"});\n",
       "$3Dmol.download(\"pdb:5WOG\", viewer_16573071393830452, {}, function() {\n",
       "\tviewer_16573071393830452.setStyle({\"cartoon\": {\"color\": \"spectrum\"}});\n",
       "\tviewer_16573071393830452.setStyle({\"hetflag\": true},{\"stick\": {\"radius\": 0.3, \"singleBond\": false}});\n",
       "\tviewer_16573071393830452.zoomTo();\n",
       "\tviewer_16573071393830452.setStyle({\"chain\": [\"A\", \"B\"]},{\"cartoon\": {\"color\": \"yellow\"}});\n",
       "\tviewer_16573071393830452.addLabel(\"alpha subunits\",{\"fontColor\": \"yellow\", \"backgroundColor\": \"lightgray\"},{\"chain\": [\"A\", \"B\"]});\n",
       "\tviewer_16573071393830452.setStyle({\"chain\": [\"C\", \"D\"]},{\"cartoon\": {\"color\": \"blue\"}});\n",
       "\tviewer_16573071393830452.addLabel(\"beta subunits\",{\"fontColor\": \"blue\", \"backgroundColor\": \"lightgray\"},{\"chain\": [\"C\", \"D\"]});\n",
       "viewer_16573071393830452.render();\n",
       "})\n",
       "});\n",
       "</script>"
      ]
     },
     "metadata": {},
     "output_type": "display_data"
    }
   ],
   "source": [
    "hemoglobin.setStyle({'chain':['A','B']},{'cartoon': {'color': 'yellow'}}) # alpha subunits of hemoglobin\n",
    "hemoglobin.addLabel('alpha subunits', {'fontColor':'yellow', 'backgroundColor':'lightgray'}, {'chain': ['A','B']}) # adding a label                                              \n",
    "hemoglobin.setStyle({'chain':['C','D']},{'cartoon': {'color': 'blue'}}) # beta subunits of hemoglobin\n",
    "hemoglobin.addLabel('beta subunits', {'fontColor':'blue', 'backgroundColor':'lightgray'}, {'chain': ['C','D']}) #adding a label\n",
    "hemoglobin.show()"
   ]
  },
  {
   "cell_type": "markdown",
   "id": "07e915a9",
   "metadata": {},
   "source": [
    "## Visualizing Residues and Ligands\n",
    "\n",
    "We can also visualize the different residues and ligands interacting with the protein. Here, we will look at the waters interacting with the protein."
   ]
  },
  {
   "cell_type": "code",
   "execution_count": 19,
   "id": "c8bf38a3",
   "metadata": {},
   "outputs": [
    {
     "data": {
      "application/3dmoljs_load.v0": "<div id=\"3dmolviewer_16573075878984919\"  style=\"position: relative; width: 640px; height: 480px\">\n        <p id=\"3dmolwarning_16573075878984919\" style=\"background-color:#ffcccc;color:black\">You appear to be running in JupyterLab (or JavaScript failed to load for some other reason).  You need to install the 3dmol extension: <br>\n        <tt>jupyter labextension install jupyterlab_3dmol</tt></p>\n        </div>\n<script>\n\nvar loadScriptAsync = function(uri){\n  return new Promise((resolve, reject) => {\n    var tag = document.createElement('script');\n    tag.src = uri;\n    tag.async = true;\n    tag.onload = () => {\n      resolve();\n    };\n  var firstScriptTag = document.getElementsByTagName('script')[0];\n  firstScriptTag.parentNode.insertBefore(tag, firstScriptTag);\n});\n};\n\nif(typeof $3Dmolpromise === 'undefined') {\n$3Dmolpromise = null;\n  $3Dmolpromise = loadScriptAsync('https://3dmol.csb.pitt.edu/build/3Dmol.js');\n}\n\nvar viewer_16573075878984919 = null;\nvar warn = document.getElementById(\"3dmolwarning_16573075878984919\");\nif(warn) {\n    warn.parentNode.removeChild(warn);\n}\n$3Dmolpromise.then(function() {\nviewer_16573075878984919 = $3Dmol.createViewer($(\"#3dmolviewer_16573075878984919\"),{backgroundColor:\"white\"});\n$3Dmol.download(\"pdb:5WOG\", viewer_16573075878984919, {}, function() {\n\tviewer_16573075878984919.setStyle({\"cartoon\": {\"color\": \"spectrum\"}});\n\tviewer_16573075878984919.setStyle({\"hetflag\": true},{\"stick\": {\"radius\": 0.3, \"singleBond\": false}});\n\tviewer_16573075878984919.zoomTo();\n\tviewer_16573075878984919.setStyle({\"chain\": [\"A\", \"B\"]},{\"cartoon\": {\"color\": \"yellow\"}});\n\tviewer_16573075878984919.addLabel(\"alpha subunits\",{\"fontColor\": \"yellow\", \"backgroundColor\": \"lightgray\"},{\"chain\": [\"A\", \"B\"]});\n\tviewer_16573075878984919.setStyle({\"chain\": [\"C\", \"D\"]},{\"cartoon\": {\"color\": \"blue\"}});\n\tviewer_16573075878984919.addLabel(\"beta subunits\",{\"fontColor\": \"blue\", \"backgroundColor\": \"lightgray\"},{\"chain\": [\"C\", \"D\"]});\n\tviewer_16573075878984919.setStyle({\"resn\": \"HOH\"},{\"sphere\": {\"radius\": 0.5}});\n\tviewer_16573075878984919.setStyle({\"resn\": \"HOH\"},{});\n\tviewer_16573075878984919.setStyle({\"chain\": \"C\", \"resi\": \"6\"},{\"stick\": {\"colorscheme\": \"redCarbon\"}});\n\tviewer_16573075878984919.setStyle({\"chain\": \"D\", \"resi\": \"6\"},{\"stick\": {\"colorscheme\": \"redCarbon\"}});\n\tviewer_16573075878984919.setStyle({\"resn\": \"HOH\"},{\"sphere\": {\"radius\": 0.5}});\nviewer_16573075878984919.render();\n})\n});\n</script>",
      "text/html": [
       "<div id=\"3dmolviewer_16573075878984919\"  style=\"position: relative; width: 640px; height: 480px\">\n",
       "        <p id=\"3dmolwarning_16573075878984919\" style=\"background-color:#ffcccc;color:black\">You appear to be running in JupyterLab (or JavaScript failed to load for some other reason).  You need to install the 3dmol extension: <br>\n",
       "        <tt>jupyter labextension install jupyterlab_3dmol</tt></p>\n",
       "        </div>\n",
       "<script>\n",
       "\n",
       "var loadScriptAsync = function(uri){\n",
       "  return new Promise((resolve, reject) => {\n",
       "    var tag = document.createElement('script');\n",
       "    tag.src = uri;\n",
       "    tag.async = true;\n",
       "    tag.onload = () => {\n",
       "      resolve();\n",
       "    };\n",
       "  var firstScriptTag = document.getElementsByTagName('script')[0];\n",
       "  firstScriptTag.parentNode.insertBefore(tag, firstScriptTag);\n",
       "});\n",
       "};\n",
       "\n",
       "if(typeof $3Dmolpromise === 'undefined') {\n",
       "$3Dmolpromise = null;\n",
       "  $3Dmolpromise = loadScriptAsync('https://3dmol.csb.pitt.edu/build/3Dmol.js');\n",
       "}\n",
       "\n",
       "var viewer_16573075878984919 = null;\n",
       "var warn = document.getElementById(\"3dmolwarning_16573075878984919\");\n",
       "if(warn) {\n",
       "    warn.parentNode.removeChild(warn);\n",
       "}\n",
       "$3Dmolpromise.then(function() {\n",
       "viewer_16573075878984919 = $3Dmol.createViewer($(\"#3dmolviewer_16573075878984919\"),{backgroundColor:\"white\"});\n",
       "$3Dmol.download(\"pdb:5WOG\", viewer_16573075878984919, {}, function() {\n",
       "\tviewer_16573075878984919.setStyle({\"cartoon\": {\"color\": \"spectrum\"}});\n",
       "\tviewer_16573075878984919.setStyle({\"hetflag\": true},{\"stick\": {\"radius\": 0.3, \"singleBond\": false}});\n",
       "\tviewer_16573075878984919.zoomTo();\n",
       "\tviewer_16573075878984919.setStyle({\"chain\": [\"A\", \"B\"]},{\"cartoon\": {\"color\": \"yellow\"}});\n",
       "\tviewer_16573075878984919.addLabel(\"alpha subunits\",{\"fontColor\": \"yellow\", \"backgroundColor\": \"lightgray\"},{\"chain\": [\"A\", \"B\"]});\n",
       "\tviewer_16573075878984919.setStyle({\"chain\": [\"C\", \"D\"]},{\"cartoon\": {\"color\": \"blue\"}});\n",
       "\tviewer_16573075878984919.addLabel(\"beta subunits\",{\"fontColor\": \"blue\", \"backgroundColor\": \"lightgray\"},{\"chain\": [\"C\", \"D\"]});\n",
       "\tviewer_16573075878984919.setStyle({\"resn\": \"HOH\"},{\"sphere\": {\"radius\": 0.5}});\n",
       "\tviewer_16573075878984919.setStyle({\"resn\": \"HOH\"},{});\n",
       "\tviewer_16573075878984919.setStyle({\"chain\": \"C\", \"resi\": \"6\"},{\"stick\": {\"colorscheme\": \"redCarbon\"}});\n",
       "\tviewer_16573075878984919.setStyle({\"chain\": \"D\", \"resi\": \"6\"},{\"stick\": {\"colorscheme\": \"redCarbon\"}});\n",
       "\tviewer_16573075878984919.setStyle({\"resn\": \"HOH\"},{\"sphere\": {\"radius\": 0.5}});\n",
       "viewer_16573075878984919.render();\n",
       "})\n",
       "});\n",
       "</script>"
      ]
     },
     "metadata": {},
     "output_type": "display_data"
    }
   ],
   "source": [
    "hemoglobin.setStyle({'resn': 'HOH'}, {'sphere':{'radius':0.5}})\n",
    "hemoglobin.show()"
   ]
  },
  {
   "cell_type": "markdown",
   "id": "d52701ef",
   "metadata": {},
   "source": [
    "Now, turn the waters off"
   ]
  },
  {
   "cell_type": "code",
   "execution_count": 17,
   "id": "3b9a8d98",
   "metadata": {},
   "outputs": [
    {
     "data": {
      "application/3dmoljs_load.v0": "<div id=\"3dmolviewer_1657307144981806\"  style=\"position: relative; width: 640px; height: 480px\">\n        <p id=\"3dmolwarning_1657307144981806\" style=\"background-color:#ffcccc;color:black\">You appear to be running in JupyterLab (or JavaScript failed to load for some other reason).  You need to install the 3dmol extension: <br>\n        <tt>jupyter labextension install jupyterlab_3dmol</tt></p>\n        </div>\n<script>\n\nvar loadScriptAsync = function(uri){\n  return new Promise((resolve, reject) => {\n    var tag = document.createElement('script');\n    tag.src = uri;\n    tag.async = true;\n    tag.onload = () => {\n      resolve();\n    };\n  var firstScriptTag = document.getElementsByTagName('script')[0];\n  firstScriptTag.parentNode.insertBefore(tag, firstScriptTag);\n});\n};\n\nif(typeof $3Dmolpromise === 'undefined') {\n$3Dmolpromise = null;\n  $3Dmolpromise = loadScriptAsync('https://3dmol.csb.pitt.edu/build/3Dmol.js');\n}\n\nvar viewer_1657307144981806 = null;\nvar warn = document.getElementById(\"3dmolwarning_1657307144981806\");\nif(warn) {\n    warn.parentNode.removeChild(warn);\n}\n$3Dmolpromise.then(function() {\nviewer_1657307144981806 = $3Dmol.createViewer($(\"#3dmolviewer_1657307144981806\"),{backgroundColor:\"white\"});\n$3Dmol.download(\"pdb:5WOG\", viewer_1657307144981806, {}, function() {\n\tviewer_1657307144981806.setStyle({\"cartoon\": {\"color\": \"spectrum\"}});\n\tviewer_1657307144981806.setStyle({\"hetflag\": true},{\"stick\": {\"radius\": 0.3, \"singleBond\": false}});\n\tviewer_1657307144981806.zoomTo();\n\tviewer_1657307144981806.setStyle({\"chain\": [\"A\", \"B\"]},{\"cartoon\": {\"color\": \"yellow\"}});\n\tviewer_1657307144981806.addLabel(\"alpha subunits\",{\"fontColor\": \"yellow\", \"backgroundColor\": \"lightgray\"},{\"chain\": [\"A\", \"B\"]});\n\tviewer_1657307144981806.setStyle({\"chain\": [\"C\", \"D\"]},{\"cartoon\": {\"color\": \"blue\"}});\n\tviewer_1657307144981806.addLabel(\"beta subunits\",{\"fontColor\": \"blue\", \"backgroundColor\": \"lightgray\"},{\"chain\": [\"C\", \"D\"]});\n\tviewer_1657307144981806.setStyle({\"resn\": \"HOH\"},{\"sphere\": {\"radius\": 0.5}});\n\tviewer_1657307144981806.setStyle({\"resn\": \"HOH\"},{});\nviewer_1657307144981806.render();\n})\n});\n</script>",
      "text/html": [
       "<div id=\"3dmolviewer_1657307144981806\"  style=\"position: relative; width: 640px; height: 480px\">\n",
       "        <p id=\"3dmolwarning_1657307144981806\" style=\"background-color:#ffcccc;color:black\">You appear to be running in JupyterLab (or JavaScript failed to load for some other reason).  You need to install the 3dmol extension: <br>\n",
       "        <tt>jupyter labextension install jupyterlab_3dmol</tt></p>\n",
       "        </div>\n",
       "<script>\n",
       "\n",
       "var loadScriptAsync = function(uri){\n",
       "  return new Promise((resolve, reject) => {\n",
       "    var tag = document.createElement('script');\n",
       "    tag.src = uri;\n",
       "    tag.async = true;\n",
       "    tag.onload = () => {\n",
       "      resolve();\n",
       "    };\n",
       "  var firstScriptTag = document.getElementsByTagName('script')[0];\n",
       "  firstScriptTag.parentNode.insertBefore(tag, firstScriptTag);\n",
       "});\n",
       "};\n",
       "\n",
       "if(typeof $3Dmolpromise === 'undefined') {\n",
       "$3Dmolpromise = null;\n",
       "  $3Dmolpromise = loadScriptAsync('https://3dmol.csb.pitt.edu/build/3Dmol.js');\n",
       "}\n",
       "\n",
       "var viewer_1657307144981806 = null;\n",
       "var warn = document.getElementById(\"3dmolwarning_1657307144981806\");\n",
       "if(warn) {\n",
       "    warn.parentNode.removeChild(warn);\n",
       "}\n",
       "$3Dmolpromise.then(function() {\n",
       "viewer_1657307144981806 = $3Dmol.createViewer($(\"#3dmolviewer_1657307144981806\"),{backgroundColor:\"white\"});\n",
       "$3Dmol.download(\"pdb:5WOG\", viewer_1657307144981806, {}, function() {\n",
       "\tviewer_1657307144981806.setStyle({\"cartoon\": {\"color\": \"spectrum\"}});\n",
       "\tviewer_1657307144981806.setStyle({\"hetflag\": true},{\"stick\": {\"radius\": 0.3, \"singleBond\": false}});\n",
       "\tviewer_1657307144981806.zoomTo();\n",
       "\tviewer_1657307144981806.setStyle({\"chain\": [\"A\", \"B\"]},{\"cartoon\": {\"color\": \"yellow\"}});\n",
       "\tviewer_1657307144981806.addLabel(\"alpha subunits\",{\"fontColor\": \"yellow\", \"backgroundColor\": \"lightgray\"},{\"chain\": [\"A\", \"B\"]});\n",
       "\tviewer_1657307144981806.setStyle({\"chain\": [\"C\", \"D\"]},{\"cartoon\": {\"color\": \"blue\"}});\n",
       "\tviewer_1657307144981806.addLabel(\"beta subunits\",{\"fontColor\": \"blue\", \"backgroundColor\": \"lightgray\"},{\"chain\": [\"C\", \"D\"]});\n",
       "\tviewer_1657307144981806.setStyle({\"resn\": \"HOH\"},{\"sphere\": {\"radius\": 0.5}});\n",
       "\tviewer_1657307144981806.setStyle({\"resn\": \"HOH\"},{});\n",
       "viewer_1657307144981806.render();\n",
       "})\n",
       "});\n",
       "</script>"
      ]
     },
     "metadata": {},
     "output_type": "display_data"
    }
   ],
   "source": [
    "hemoglobin.setStyle({'resn': 'HOH'}, {})\n",
    "hemoglobin.show()"
   ]
  },
  {
   "cell_type": "markdown",
   "id": "bbacea01",
   "metadata": {},
   "source": [
    "### Exercise\n",
    "Try visualizing all the heme residues that interact with hemoglobin. The residue name for heme is \"HEM\""
   ]
  },
  {
   "cell_type": "markdown",
   "id": "59760698",
   "metadata": {},
   "source": [
    "### Exercise\n",
    "Try visualizing the protein with the PDB ID \"1JM7.\" This is heterodimer (a protein composed of two polypeptide chains) of the the RING domain of the BRCA1 protein and the BARD1 protein. Mutations in BRCA1 are commonly associated with breast cancer. Additionally, visualize the water residues that interact with this heterodimer."
   ]
  },
  {
   "cell_type": "markdown",
   "id": "d1c69b0e",
   "metadata": {},
   "source": [
    "## Visualizing specific amino acids\n",
    "\n",
    "Now let's visualize some specific amino acids on the hemoglobin protein. Here, we are looking at the 6th amino acid in the beta chains, which is a glutamine. Take a second to think about how changing this amino acid might affect the structure and function of the hemoglobin protein."
   ]
  },
  {
   "cell_type": "code",
   "execution_count": 18,
   "id": "d2b69e9e",
   "metadata": {},
   "outputs": [
    {
     "data": {
      "application/3dmoljs_load.v0": "<div id=\"3dmolviewer_1657307321357027\"  style=\"position: relative; width: 640px; height: 480px\">\n        <p id=\"3dmolwarning_1657307321357027\" style=\"background-color:#ffcccc;color:black\">You appear to be running in JupyterLab (or JavaScript failed to load for some other reason).  You need to install the 3dmol extension: <br>\n        <tt>jupyter labextension install jupyterlab_3dmol</tt></p>\n        </div>\n<script>\n\nvar loadScriptAsync = function(uri){\n  return new Promise((resolve, reject) => {\n    var tag = document.createElement('script');\n    tag.src = uri;\n    tag.async = true;\n    tag.onload = () => {\n      resolve();\n    };\n  var firstScriptTag = document.getElementsByTagName('script')[0];\n  firstScriptTag.parentNode.insertBefore(tag, firstScriptTag);\n});\n};\n\nif(typeof $3Dmolpromise === 'undefined') {\n$3Dmolpromise = null;\n  $3Dmolpromise = loadScriptAsync('https://3dmol.csb.pitt.edu/build/3Dmol.js');\n}\n\nvar viewer_1657307321357027 = null;\nvar warn = document.getElementById(\"3dmolwarning_1657307321357027\");\nif(warn) {\n    warn.parentNode.removeChild(warn);\n}\n$3Dmolpromise.then(function() {\nviewer_1657307321357027 = $3Dmol.createViewer($(\"#3dmolviewer_1657307321357027\"),{backgroundColor:\"white\"});\n$3Dmol.download(\"pdb:5WOG\", viewer_1657307321357027, {}, function() {\n\tviewer_1657307321357027.setStyle({\"cartoon\": {\"color\": \"spectrum\"}});\n\tviewer_1657307321357027.setStyle({\"hetflag\": true},{\"stick\": {\"radius\": 0.3, \"singleBond\": false}});\n\tviewer_1657307321357027.zoomTo();\n\tviewer_1657307321357027.setStyle({\"chain\": [\"A\", \"B\"]},{\"cartoon\": {\"color\": \"yellow\"}});\n\tviewer_1657307321357027.addLabel(\"alpha subunits\",{\"fontColor\": \"yellow\", \"backgroundColor\": \"lightgray\"},{\"chain\": [\"A\", \"B\"]});\n\tviewer_1657307321357027.setStyle({\"chain\": [\"C\", \"D\"]},{\"cartoon\": {\"color\": \"blue\"}});\n\tviewer_1657307321357027.addLabel(\"beta subunits\",{\"fontColor\": \"blue\", \"backgroundColor\": \"lightgray\"},{\"chain\": [\"C\", \"D\"]});\n\tviewer_1657307321357027.setStyle({\"resn\": \"HOH\"},{\"sphere\": {\"radius\": 0.5}});\n\tviewer_1657307321357027.setStyle({\"resn\": \"HOH\"},{});\n\tviewer_1657307321357027.setStyle({\"chain\": \"C\", \"resi\": \"6\"},{\"stick\": {\"colorscheme\": \"redCarbon\"}});\n\tviewer_1657307321357027.setStyle({\"chain\": \"D\", \"resi\": \"6\"},{\"stick\": {\"colorscheme\": \"redCarbon\"}});\nviewer_1657307321357027.render();\n})\n});\n</script>",
      "text/html": [
       "<div id=\"3dmolviewer_1657307321357027\"  style=\"position: relative; width: 640px; height: 480px\">\n",
       "        <p id=\"3dmolwarning_1657307321357027\" style=\"background-color:#ffcccc;color:black\">You appear to be running in JupyterLab (or JavaScript failed to load for some other reason).  You need to install the 3dmol extension: <br>\n",
       "        <tt>jupyter labextension install jupyterlab_3dmol</tt></p>\n",
       "        </div>\n",
       "<script>\n",
       "\n",
       "var loadScriptAsync = function(uri){\n",
       "  return new Promise((resolve, reject) => {\n",
       "    var tag = document.createElement('script');\n",
       "    tag.src = uri;\n",
       "    tag.async = true;\n",
       "    tag.onload = () => {\n",
       "      resolve();\n",
       "    };\n",
       "  var firstScriptTag = document.getElementsByTagName('script')[0];\n",
       "  firstScriptTag.parentNode.insertBefore(tag, firstScriptTag);\n",
       "});\n",
       "};\n",
       "\n",
       "if(typeof $3Dmolpromise === 'undefined') {\n",
       "$3Dmolpromise = null;\n",
       "  $3Dmolpromise = loadScriptAsync('https://3dmol.csb.pitt.edu/build/3Dmol.js');\n",
       "}\n",
       "\n",
       "var viewer_1657307321357027 = null;\n",
       "var warn = document.getElementById(\"3dmolwarning_1657307321357027\");\n",
       "if(warn) {\n",
       "    warn.parentNode.removeChild(warn);\n",
       "}\n",
       "$3Dmolpromise.then(function() {\n",
       "viewer_1657307321357027 = $3Dmol.createViewer($(\"#3dmolviewer_1657307321357027\"),{backgroundColor:\"white\"});\n",
       "$3Dmol.download(\"pdb:5WOG\", viewer_1657307321357027, {}, function() {\n",
       "\tviewer_1657307321357027.setStyle({\"cartoon\": {\"color\": \"spectrum\"}});\n",
       "\tviewer_1657307321357027.setStyle({\"hetflag\": true},{\"stick\": {\"radius\": 0.3, \"singleBond\": false}});\n",
       "\tviewer_1657307321357027.zoomTo();\n",
       "\tviewer_1657307321357027.setStyle({\"chain\": [\"A\", \"B\"]},{\"cartoon\": {\"color\": \"yellow\"}});\n",
       "\tviewer_1657307321357027.addLabel(\"alpha subunits\",{\"fontColor\": \"yellow\", \"backgroundColor\": \"lightgray\"},{\"chain\": [\"A\", \"B\"]});\n",
       "\tviewer_1657307321357027.setStyle({\"chain\": [\"C\", \"D\"]},{\"cartoon\": {\"color\": \"blue\"}});\n",
       "\tviewer_1657307321357027.addLabel(\"beta subunits\",{\"fontColor\": \"blue\", \"backgroundColor\": \"lightgray\"},{\"chain\": [\"C\", \"D\"]});\n",
       "\tviewer_1657307321357027.setStyle({\"resn\": \"HOH\"},{\"sphere\": {\"radius\": 0.5}});\n",
       "\tviewer_1657307321357027.setStyle({\"resn\": \"HOH\"},{});\n",
       "\tviewer_1657307321357027.setStyle({\"chain\": \"C\", \"resi\": \"6\"},{\"stick\": {\"colorscheme\": \"redCarbon\"}});\n",
       "\tviewer_1657307321357027.setStyle({\"chain\": \"D\", \"resi\": \"6\"},{\"stick\": {\"colorscheme\": \"redCarbon\"}});\n",
       "viewer_1657307321357027.render();\n",
       "})\n",
       "});\n",
       "</script>"
      ]
     },
     "metadata": {},
     "output_type": "display_data"
    }
   ],
   "source": [
    "hemoglobin.setStyle({'chain': 'C', 'resi': '6'},{'stick': {'colorscheme': 'redCarbon'}})\n",
    "hemoglobin.setStyle({'chain': 'D', 'resi': '6'},{'stick': {'colorscheme': 'redCarbon'}})\n",
    "hemoglobin.show()"
   ]
  },
  {
   "cell_type": "markdown",
   "id": "0d72e324",
   "metadata": {},
   "source": [
    "In people affected with sickle cell anemia, this glutamine is changed to a valine. Molecules of sickle cell affected hemoglobin stick to one another, forming rigid rods. These rods cause a person's red blood cells to take on a deformed, sickle-like shape. These blood cells do not carry oxygen well, and they also tend to clog capillaries. So, when a person affected by sickle cell anemia exerts themselves even slightly, they often experience terrible pain, and might even undergo heart attack or stroke—all because of a single substitution!"
   ]
  },
  {
   "cell_type": "markdown",
   "id": "d05f95ab",
   "metadata": {},
   "source": [
    "## MAVE data\n",
    "\n",
    "MAVE stands for Multiplexed Assays of Variant Effect. MAVE assays test all possible single nucleotide or amino acid variants in a selected genomic region. This rapidly generates a large volume of variant effect data, which can be used to assess how mutations affect protein structure and function. This data can be used in clinical applications to study and develop cures for diseases caused by mutations. The MAVE Data Base (MAVE DB) contains a repository of MAVe data. This data base can be accessed at mavedb.org. In this tutorial, you will look at 5 different mutations from a MAVE dataset and explore their effects on protein function. "
   ]
  },
  {
   "cell_type": "markdown",
   "id": "83b96559",
   "metadata": {},
   "source": [
    "First, we will start by importing the data as a Pandas dataframe from a .csv (comma separated values) file. "
   ]
  },
  {
   "cell_type": "code",
   "execution_count": 22,
   "id": "cf41c3fc",
   "metadata": {},
   "outputs": [
    {
     "data": {
      "text/html": [
       "<div>\n",
       "<style scoped>\n",
       "    .dataframe tbody tr th:only-of-type {\n",
       "        vertical-align: middle;\n",
       "    }\n",
       "\n",
       "    .dataframe tbody tr th {\n",
       "        vertical-align: top;\n",
       "    }\n",
       "\n",
       "    .dataframe thead th {\n",
       "        text-align: right;\n",
       "    }\n",
       "</style>\n",
       "<table border=\"1\" class=\"dataframe\">\n",
       "  <thead>\n",
       "    <tr style=\"text-align: right;\">\n",
       "      <th></th>\n",
       "      <th>accession</th>\n",
       "      <th>hgvs_nt</th>\n",
       "      <th>hgvs_pro</th>\n",
       "      <th>score</th>\n",
       "      <th>SE</th>\n",
       "      <th>epsilon</th>\n",
       "      <th>SE_PlusE2NewRep3</th>\n",
       "      <th>score_PlusE2NewRep3</th>\n",
       "      <th>SE_PlusE2NewRep4</th>\n",
       "      <th>score_PlusE2NewRep4</th>\n",
       "      <th>SE_PlusE2NewRep5</th>\n",
       "      <th>score_PlusE2NewRep5</th>\n",
       "      <th>SE_PlusE2Rep3</th>\n",
       "      <th>score_PlusE2Rep3</th>\n",
       "      <th>SE_PlusE2Rep4</th>\n",
       "      <th>score_PlusE2Rep4</th>\n",
       "      <th>SE_PlusE2Rep5</th>\n",
       "      <th>score_PlusE2Rep5</th>\n",
       "    </tr>\n",
       "  </thead>\n",
       "  <tbody>\n",
       "    <tr>\n",
       "      <th>0</th>\n",
       "      <td>urn:mavedb:00000003-a-1#1370</td>\n",
       "      <td>77G&gt;T</td>\n",
       "      <td>Cys26Phe</td>\n",
       "      <td>-4.134405</td>\n",
       "      <td>0.333100</td>\n",
       "      <td>0.000000e+00</td>\n",
       "      <td>0.289026</td>\n",
       "      <td>-3.680959</td>\n",
       "      <td>0.429380</td>\n",
       "      <td>-4.364103</td>\n",
       "      <td>0.353721</td>\n",
       "      <td>-3.514476</td>\n",
       "      <td>0.376292</td>\n",
       "      <td>-3.292892</td>\n",
       "      <td>0.315858</td>\n",
       "      <td>-4.385208</td>\n",
       "      <td>0.161177</td>\n",
       "      <td>-5.376609</td>\n",
       "    </tr>\n",
       "    <tr>\n",
       "      <th>1</th>\n",
       "      <td>urn:mavedb:00000003-a-1#1622</td>\n",
       "      <td>33A&gt;T</td>\n",
       "      <td>Gln11His</td>\n",
       "      <td>0.796523</td>\n",
       "      <td>0.095511</td>\n",
       "      <td>2.200000e-12</td>\n",
       "      <td>0.082801</td>\n",
       "      <td>0.927734</td>\n",
       "      <td>0.104117</td>\n",
       "      <td>0.720088</td>\n",
       "      <td>0.142041</td>\n",
       "      <td>1.044444</td>\n",
       "      <td>0.216357</td>\n",
       "      <td>0.198959</td>\n",
       "      <td>0.141822</td>\n",
       "      <td>0.679058</td>\n",
       "      <td>0.053409</td>\n",
       "      <td>0.942422</td>\n",
       "    </tr>\n",
       "    <tr>\n",
       "      <th>2</th>\n",
       "      <td>urn:mavedb:00000003-a-1#9137</td>\n",
       "      <td>159G&gt;T</td>\n",
       "      <td>Gln53His</td>\n",
       "      <td>-2.211282</td>\n",
       "      <td>0.280966</td>\n",
       "      <td>1.110000e-16</td>\n",
       "      <td>0.176838</td>\n",
       "      <td>-2.353744</td>\n",
       "      <td>0.162923</td>\n",
       "      <td>-1.450070</td>\n",
       "      <td>0.170418</td>\n",
       "      <td>-2.142533</td>\n",
       "      <td>0.354973</td>\n",
       "      <td>-3.359422</td>\n",
       "      <td>0.329391</td>\n",
       "      <td>-1.424622</td>\n",
       "      <td>0.154763</td>\n",
       "      <td>-2.623216</td>\n",
       "    </tr>\n",
       "    <tr>\n",
       "      <th>3</th>\n",
       "      <td>urn:mavedb:00000003-a-1#2102</td>\n",
       "      <td>136T&gt;G</td>\n",
       "      <td>Cys46Gly</td>\n",
       "      <td>-1.624800</td>\n",
       "      <td>0.324948</td>\n",
       "      <td>0.000000e+00</td>\n",
       "      <td>0.453543</td>\n",
       "      <td>-2.041432</td>\n",
       "      <td>0.159157</td>\n",
       "      <td>-1.937265</td>\n",
       "      <td>0.205004</td>\n",
       "      <td>-2.788734</td>\n",
       "      <td>0.109212</td>\n",
       "      <td>-1.205581</td>\n",
       "      <td>0.020247</td>\n",
       "      <td>-1.338925</td>\n",
       "      <td>0.336462</td>\n",
       "      <td>-0.434591</td>\n",
       "    </tr>\n",
       "    <tr>\n",
       "      <th>4</th>\n",
       "      <td>urn:mavedb:00000003-a-1#1264</td>\n",
       "      <td>266T&gt;G</td>\n",
       "      <td>Ile89Ser</td>\n",
       "      <td>-1.066312</td>\n",
       "      <td>0.224966</td>\n",
       "      <td>0.000000e+00</td>\n",
       "      <td>0.329340</td>\n",
       "      <td>-1.957400</td>\n",
       "      <td>0.113729</td>\n",
       "      <td>-0.276591</td>\n",
       "      <td>0.239786</td>\n",
       "      <td>-1.283948</td>\n",
       "      <td>0.123882</td>\n",
       "      <td>-1.166353</td>\n",
       "      <td>0.166965</td>\n",
       "      <td>-1.297198</td>\n",
       "      <td>0.087659</td>\n",
       "      <td>-0.691205</td>\n",
       "    </tr>\n",
       "  </tbody>\n",
       "</table>\n",
       "</div>"
      ],
      "text/plain": [
       "                      accession hgvs_nt  hgvs_pro     score        SE  \\\n",
       "0  urn:mavedb:00000003-a-1#1370   77G>T  Cys26Phe -4.134405  0.333100   \n",
       "1  urn:mavedb:00000003-a-1#1622   33A>T  Gln11His  0.796523  0.095511   \n",
       "2  urn:mavedb:00000003-a-1#9137  159G>T  Gln53His -2.211282  0.280966   \n",
       "3  urn:mavedb:00000003-a-1#2102  136T>G  Cys46Gly -1.624800  0.324948   \n",
       "4  urn:mavedb:00000003-a-1#1264  266T>G  Ile89Ser -1.066312  0.224966   \n",
       "\n",
       "        epsilon  SE_PlusE2NewRep3  score_PlusE2NewRep3  SE_PlusE2NewRep4  \\\n",
       "0  0.000000e+00          0.289026            -3.680959          0.429380   \n",
       "1  2.200000e-12          0.082801             0.927734          0.104117   \n",
       "2  1.110000e-16          0.176838            -2.353744          0.162923   \n",
       "3  0.000000e+00          0.453543            -2.041432          0.159157   \n",
       "4  0.000000e+00          0.329340            -1.957400          0.113729   \n",
       "\n",
       "   score_PlusE2NewRep4  SE_PlusE2NewRep5  score_PlusE2NewRep5  SE_PlusE2Rep3  \\\n",
       "0            -4.364103          0.353721            -3.514476       0.376292   \n",
       "1             0.720088          0.142041             1.044444       0.216357   \n",
       "2            -1.450070          0.170418            -2.142533       0.354973   \n",
       "3            -1.937265          0.205004            -2.788734       0.109212   \n",
       "4            -0.276591          0.239786            -1.283948       0.123882   \n",
       "\n",
       "   score_PlusE2Rep3  SE_PlusE2Rep4  score_PlusE2Rep4  SE_PlusE2Rep5  \\\n",
       "0         -3.292892       0.315858         -4.385208       0.161177   \n",
       "1          0.198959       0.141822          0.679058       0.053409   \n",
       "2         -3.359422       0.329391         -1.424622       0.154763   \n",
       "3         -1.205581       0.020247         -1.338925       0.336462   \n",
       "4         -1.166353       0.166965         -1.297198       0.087659   \n",
       "\n",
       "   score_PlusE2Rep5  \n",
       "0         -5.376609  \n",
       "1          0.942422  \n",
       "2         -2.623216  \n",
       "3         -0.434591  \n",
       "4         -0.691205  "
      ]
     },
     "execution_count": 22,
     "metadata": {},
     "output_type": "execute_result"
    }
   ],
   "source": [
    "import pandas as pd # import the pandas package, which is a common data analysis package\n",
    "MAVEdata = pd.read_csv('BRCA1_MAVE_practicedata.csv') # import the csv data as a pandas dataframe\n",
    "MAVEdata # visualize the dataframe"
   ]
  },
  {
   "cell_type": "markdown",
   "id": "f2c87a4c",
   "metadata": {},
   "source": [
    "In the table above, the \"accession\" number is the MAVE ID number. The \"hgvs_nt\" column describes the nucleotide substitution for this mutation. For example, in the 0th row, the guanine in the 77th position of the gene is replaced by a thymine. The \"hgvs_pro\" column describes the amino acid substitution for this mutation. For example, in the 0th row, the cysteine in the 26th position of the protein is replaced by a phenylalanine. The rest of columns describe various effects the mutations have on structure and function. Understanding these columns is not necessary for this tutorial, but you can find more information about them at https://www.mavedb.org/docs/mavedb/ if you are interested."
   ]
  },
  {
   "cell_type": "markdown",
   "id": "bb1732d2",
   "metadata": {},
   "source": [
    "### Exercise\n",
    "\n",
    "Visualize the amino acids in the positions described in the MAVE data. (Hint: This is done in the same way that the 6th amino acid of glutamine was visualized for hemoglobin above). All of these mutations cause a loss of function (LOF) in the BRCA1 RING domain. The mutation in the 0th row causes the largest LOF, while the mutation in the 1st row causes the smallest LOF. After visualizing all five mutations, order the remaining three mutations from largest to smallest LOF based on where they occur on the protein. "
   ]
  },
  {
   "cell_type": "markdown",
   "id": "43118136",
   "metadata": {},
   "source": [
    "**Acknowledgements**: \n",
    "This tutorial was developed by Kriti Shukla at the University of North Carolina a\n",
    "\n",
    "This tutorial was adapted from the MMTF-2018 Workshop & Hackathon, hosted by Dr. Peter W. Rose at the University of California, San Diego.  "
   ]
  }
 ],
 "metadata": {
  "kernelspec": {
   "display_name": "Python 3 (ipykernel)",
   "language": "python",
   "name": "python3"
  },
  "language_info": {
   "codemirror_mode": {
    "name": "ipython",
    "version": 3
   },
   "file_extension": ".py",
   "mimetype": "text/x-python",
   "name": "python",
   "nbconvert_exporter": "python",
   "pygments_lexer": "ipython3",
   "version": "3.7.12"
  }
 },
 "nbformat": 4,
 "nbformat_minor": 5
}
