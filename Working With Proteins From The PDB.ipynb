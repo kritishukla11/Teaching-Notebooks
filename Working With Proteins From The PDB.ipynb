{
 "cells": [
  {
   "cell_type": "markdown",
   "id": "51890bbf",
   "metadata": {},
   "source": [
    "# Working With Proteins From the PDB\n",
    "\n",
    "The Protein Data Bank (PDB) stores information about the 3D shapes of proteins, nucleic acids, and complex assemblies. This data bank can be found online at https://www.rcsb.org/. In this tutorial, we will go through how to visualize proteins from the PDB, and how to map mutation data from other databases to the PDB. "
   ]
  },
  {
   "cell_type": "markdown",
   "id": "61a34c5d",
   "metadata": {},
   "source": [
    "## Visualizing Proteins using Py3Dmol\n",
    "\n",
    "Py3Dmol downloads PDB structures using the compressed binary MMTF file format from https://mmtf.rcsb.org. For more information, read the documentation at https://pypi.org/project/py3Dmol/."
   ]
  },
  {
   "cell_type": "code",
   "execution_count": 56,
   "id": "e78af59a",
   "metadata": {},
   "outputs": [],
   "source": [
    "import py3Dmol"
   ]
  },
  {
   "cell_type": "markdown",
   "id": "fec8f21e",
   "metadata": {},
   "source": [
    "Here, we are visualizing the human protein hemoglobin from the PDB"
   ]
  },
  {
   "cell_type": "code",
   "execution_count": 69,
   "id": "d3ed612f",
   "metadata": {},
   "outputs": [
    {
     "data": {
      "application/3dmoljs_load.v0": "<div id=\"3dmolviewer_16572199366551208\"  style=\"position: relative; width: 640px; height: 480px\">\n        <p id=\"3dmolwarning_16572199366551208\" style=\"background-color:#ffcccc;color:black\">You appear to be running in JupyterLab (or JavaScript failed to load for some other reason).  You need to install the 3dmol extension: <br>\n        <tt>jupyter labextension install jupyterlab_3dmol</tt></p>\n        </div>\n<script>\n\nvar loadScriptAsync = function(uri){\n  return new Promise((resolve, reject) => {\n    var tag = document.createElement('script');\n    tag.src = uri;\n    tag.async = true;\n    tag.onload = () => {\n      resolve();\n    };\n  var firstScriptTag = document.getElementsByTagName('script')[0];\n  firstScriptTag.parentNode.insertBefore(tag, firstScriptTag);\n});\n};\n\nif(typeof $3Dmolpromise === 'undefined') {\n$3Dmolpromise = null;\n  $3Dmolpromise = loadScriptAsync('https://3dmol.csb.pitt.edu/build/3Dmol.js');\n}\n\nvar viewer_16572199366551208 = null;\nvar warn = document.getElementById(\"3dmolwarning_16572199366551208\");\nif(warn) {\n    warn.parentNode.removeChild(warn);\n}\n$3Dmolpromise.then(function() {\nviewer_16572199366551208 = $3Dmol.createViewer($(\"#3dmolviewer_16572199366551208\"),{backgroundColor:\"white\"});\n$3Dmol.download(\"pdb:5WOG\", viewer_16572199366551208, {}, function() {\n\tviewer_16572199366551208.setStyle({\"cartoon\": {\"color\": \"spectrum\"}});\n\tviewer_16572199366551208.setStyle({\"hetflag\": true},{\"stick\": {\"radius\": 0.3, \"singleBond\": false}});\n\tviewer_16572199366551208.zoomTo();\nviewer_16572199366551208.render();\n})\n});\n</script>",
      "text/html": [
       "<div id=\"3dmolviewer_16572199366551208\"  style=\"position: relative; width: 640px; height: 480px\">\n",
       "        <p id=\"3dmolwarning_16572199366551208\" style=\"background-color:#ffcccc;color:black\">You appear to be running in JupyterLab (or JavaScript failed to load for some other reason).  You need to install the 3dmol extension: <br>\n",
       "        <tt>jupyter labextension install jupyterlab_3dmol</tt></p>\n",
       "        </div>\n",
       "<script>\n",
       "\n",
       "var loadScriptAsync = function(uri){\n",
       "  return new Promise((resolve, reject) => {\n",
       "    var tag = document.createElement('script');\n",
       "    tag.src = uri;\n",
       "    tag.async = true;\n",
       "    tag.onload = () => {\n",
       "      resolve();\n",
       "    };\n",
       "  var firstScriptTag = document.getElementsByTagName('script')[0];\n",
       "  firstScriptTag.parentNode.insertBefore(tag, firstScriptTag);\n",
       "});\n",
       "};\n",
       "\n",
       "if(typeof $3Dmolpromise === 'undefined') {\n",
       "$3Dmolpromise = null;\n",
       "  $3Dmolpromise = loadScriptAsync('https://3dmol.csb.pitt.edu/build/3Dmol.js');\n",
       "}\n",
       "\n",
       "var viewer_16572199366551208 = null;\n",
       "var warn = document.getElementById(\"3dmolwarning_16572199366551208\");\n",
       "if(warn) {\n",
       "    warn.parentNode.removeChild(warn);\n",
       "}\n",
       "$3Dmolpromise.then(function() {\n",
       "viewer_16572199366551208 = $3Dmol.createViewer($(\"#3dmolviewer_16572199366551208\"),{backgroundColor:\"white\"});\n",
       "$3Dmol.download(\"pdb:5WOG\", viewer_16572199366551208, {}, function() {\n",
       "\tviewer_16572199366551208.setStyle({\"cartoon\": {\"color\": \"spectrum\"}});\n",
       "\tviewer_16572199366551208.setStyle({\"hetflag\": true},{\"stick\": {\"radius\": 0.3, \"singleBond\": false}});\n",
       "\tviewer_16572199366551208.zoomTo();\n",
       "viewer_16572199366551208.render();\n",
       "})\n",
       "});\n",
       "</script>"
      ]
     },
     "metadata": {},
     "output_type": "display_data"
    }
   ],
   "source": [
    "hemoglobin = py3Dmol.view(query='pdb:5WOG') # 5WOG is the PDB ID\n",
    "hemoglobin.setStyle({'cartoon': {'color': 'spectrum'}}) # here, we are setting the color and animation style\n",
    "hemoglobin.setStyle({'hetflag': True}, {'stick':{'radius': 0.3, 'singleBond': False}}) # here, we are setting the display style\n",
    "hemoglobin.zoomTo() # this command makes sure the output zooms in on the protein\n",
    "hemoglobin.show() # this command shows us the protein"
   ]
  },
  {
   "cell_type": "markdown",
   "id": "a240c5d1",
   "metadata": {},
   "source": [
    "This protein looks a little messy! To make it easier, we can visualize the different subunits of hemoglobin in different colors."
   ]
  },
  {
   "cell_type": "code",
   "execution_count": 68,
   "id": "800b16c5",
   "metadata": {},
   "outputs": [
    {
     "data": {
      "application/3dmoljs_load.v0": "<div id=\"3dmolviewer_1657218789057\"  style=\"position: relative; width: 640px; height: 480px\">\n        <p id=\"3dmolwarning_1657218789057\" style=\"background-color:#ffcccc;color:black\">You appear to be running in JupyterLab (or JavaScript failed to load for some other reason).  You need to install the 3dmol extension: <br>\n        <tt>jupyter labextension install jupyterlab_3dmol</tt></p>\n        </div>\n<script>\n\nvar loadScriptAsync = function(uri){\n  return new Promise((resolve, reject) => {\n    var tag = document.createElement('script');\n    tag.src = uri;\n    tag.async = true;\n    tag.onload = () => {\n      resolve();\n    };\n  var firstScriptTag = document.getElementsByTagName('script')[0];\n  firstScriptTag.parentNode.insertBefore(tag, firstScriptTag);\n});\n};\n\nif(typeof $3Dmolpromise === 'undefined') {\n$3Dmolpromise = null;\n  $3Dmolpromise = loadScriptAsync('https://3dmol.csb.pitt.edu/build/3Dmol.js');\n}\n\nvar viewer_1657218789057 = null;\nvar warn = document.getElementById(\"3dmolwarning_1657218789057\");\nif(warn) {\n    warn.parentNode.removeChild(warn);\n}\n$3Dmolpromise.then(function() {\nviewer_1657218789057 = $3Dmol.createViewer($(\"#3dmolviewer_1657218789057\"),{backgroundColor:\"white\"});\n$3Dmol.download(\"pdb:5WOG\", viewer_1657218789057, {}, function() {\n\tviewer_1657218789057.setStyle({\"cartoon\": {\"color\": \"spectrum\"}});\n\tviewer_1657218789057.setStyle({\"hetflag\": true},{\"stick\": {\"radius\": 0.3, \"singleBond\": false}});\n\tviewer_1657218789057.zoomTo();\n\tviewer_1657218789057.setStyle({\"chain\": [\"A\", \"B\"]},{\"cartoon\": {\"color\": \"yellow\"}});\n\tviewer_1657218789057.addLabel(\"alpha subunits\",{\"fontColor\": \"yellow\", \"backgroundColor\": \"lightgray\"},{\"chain\": [\"A\", \"B\"]});\n\tviewer_1657218789057.setStyle({\"chain\": [\"C\", \"D\"]},{\"cartoon\": {\"color\": \"blue\"}});\n\tviewer_1657218789057.addLabel(\"beta subunits\",{\"fontColor\": \"blue\", \"backgroundColor\": \"lightgray\"},{\"chain\": [\"C\", \"D\"]});\n\tviewer_1657218789057.setStyle({\"resn\": \"HOH\"},{\"sphere\": {\"radius\": 0.5}});\n\tviewer_1657218789057.setStyle({\"resn\": \"HOH\"},{});\n\tviewer_1657218789057.setStyle({\"chain\": \"C\", \"resi\": \"6\"},{\"stick\": {\"colorscheme\": \"redCarbon\"}});\n\tviewer_1657218789057.setStyle({\"chain\": \"C\", \"resi\": \"6\"},{\"stick\": {\"colorscheme\": \"redCarbon\"}});\n\tviewer_1657218789057.setStyle({\"chain\": \"D\", \"resi\": \"6\"},{\"stick\": {\"colorscheme\": \"redCarbon\"}});\n\tviewer_1657218789057.setStyle({\"chain\": \"C\", \"resi\": \"6\"},{\"stick\": {\"colorscheme\": \"redCarbon\"}});\n\tviewer_1657218789057.setStyle({\"chain\": \"D\", \"resi\": \"6\"},{\"stick\": {\"colorscheme\": \"redCarbon\"}});\n\tviewer_1657218789057.setStyle({\"resi\": \"1775\"},{\"stick\": {\"colorscheme\": \"redCarbon\"}});\n\tviewer_1657218789057.setStyle({\"chain\": [\"A\", \"B\"]},{\"cartoon\": {\"color\": \"yellow\"}});\n\tviewer_1657218789057.addLabel(\"alpha subunits\",{\"fontColor\": \"yellow\", \"backgroundColor\": \"lightgray\"},{\"chain\": [\"A\", \"B\"]});\n\tviewer_1657218789057.setStyle({\"chain\": [\"C\", \"D\"]},{\"cartoon\": {\"color\": \"blue\"}});\n\tviewer_1657218789057.addLabel(\"beta subunits\",{\"fontColor\": \"blue\", \"backgroundColor\": \"lightgray\"},{\"chain\": [\"C\", \"D\"]});\nviewer_1657218789057.render();\n})\n});\n</script>",
      "text/html": [
       "<div id=\"3dmolviewer_1657218789057\"  style=\"position: relative; width: 640px; height: 480px\">\n",
       "        <p id=\"3dmolwarning_1657218789057\" style=\"background-color:#ffcccc;color:black\">You appear to be running in JupyterLab (or JavaScript failed to load for some other reason).  You need to install the 3dmol extension: <br>\n",
       "        <tt>jupyter labextension install jupyterlab_3dmol</tt></p>\n",
       "        </div>\n",
       "<script>\n",
       "\n",
       "var loadScriptAsync = function(uri){\n",
       "  return new Promise((resolve, reject) => {\n",
       "    var tag = document.createElement('script');\n",
       "    tag.src = uri;\n",
       "    tag.async = true;\n",
       "    tag.onload = () => {\n",
       "      resolve();\n",
       "    };\n",
       "  var firstScriptTag = document.getElementsByTagName('script')[0];\n",
       "  firstScriptTag.parentNode.insertBefore(tag, firstScriptTag);\n",
       "});\n",
       "};\n",
       "\n",
       "if(typeof $3Dmolpromise === 'undefined') {\n",
       "$3Dmolpromise = null;\n",
       "  $3Dmolpromise = loadScriptAsync('https://3dmol.csb.pitt.edu/build/3Dmol.js');\n",
       "}\n",
       "\n",
       "var viewer_1657218789057 = null;\n",
       "var warn = document.getElementById(\"3dmolwarning_1657218789057\");\n",
       "if(warn) {\n",
       "    warn.parentNode.removeChild(warn);\n",
       "}\n",
       "$3Dmolpromise.then(function() {\n",
       "viewer_1657218789057 = $3Dmol.createViewer($(\"#3dmolviewer_1657218789057\"),{backgroundColor:\"white\"});\n",
       "$3Dmol.download(\"pdb:5WOG\", viewer_1657218789057, {}, function() {\n",
       "\tviewer_1657218789057.setStyle({\"cartoon\": {\"color\": \"spectrum\"}});\n",
       "\tviewer_1657218789057.setStyle({\"hetflag\": true},{\"stick\": {\"radius\": 0.3, \"singleBond\": false}});\n",
       "\tviewer_1657218789057.zoomTo();\n",
       "\tviewer_1657218789057.setStyle({\"chain\": [\"A\", \"B\"]},{\"cartoon\": {\"color\": \"yellow\"}});\n",
       "\tviewer_1657218789057.addLabel(\"alpha subunits\",{\"fontColor\": \"yellow\", \"backgroundColor\": \"lightgray\"},{\"chain\": [\"A\", \"B\"]});\n",
       "\tviewer_1657218789057.setStyle({\"chain\": [\"C\", \"D\"]},{\"cartoon\": {\"color\": \"blue\"}});\n",
       "\tviewer_1657218789057.addLabel(\"beta subunits\",{\"fontColor\": \"blue\", \"backgroundColor\": \"lightgray\"},{\"chain\": [\"C\", \"D\"]});\n",
       "\tviewer_1657218789057.setStyle({\"resn\": \"HOH\"},{\"sphere\": {\"radius\": 0.5}});\n",
       "\tviewer_1657218789057.setStyle({\"resn\": \"HOH\"},{});\n",
       "\tviewer_1657218789057.setStyle({\"chain\": \"C\", \"resi\": \"6\"},{\"stick\": {\"colorscheme\": \"redCarbon\"}});\n",
       "\tviewer_1657218789057.setStyle({\"chain\": \"C\", \"resi\": \"6\"},{\"stick\": {\"colorscheme\": \"redCarbon\"}});\n",
       "\tviewer_1657218789057.setStyle({\"chain\": \"D\", \"resi\": \"6\"},{\"stick\": {\"colorscheme\": \"redCarbon\"}});\n",
       "\tviewer_1657218789057.setStyle({\"chain\": \"C\", \"resi\": \"6\"},{\"stick\": {\"colorscheme\": \"redCarbon\"}});\n",
       "\tviewer_1657218789057.setStyle({\"chain\": \"D\", \"resi\": \"6\"},{\"stick\": {\"colorscheme\": \"redCarbon\"}});\n",
       "\tviewer_1657218789057.setStyle({\"resi\": \"1775\"},{\"stick\": {\"colorscheme\": \"redCarbon\"}});\n",
       "\tviewer_1657218789057.setStyle({\"chain\": [\"A\", \"B\"]},{\"cartoon\": {\"color\": \"yellow\"}});\n",
       "\tviewer_1657218789057.addLabel(\"alpha subunits\",{\"fontColor\": \"yellow\", \"backgroundColor\": \"lightgray\"},{\"chain\": [\"A\", \"B\"]});\n",
       "\tviewer_1657218789057.setStyle({\"chain\": [\"C\", \"D\"]},{\"cartoon\": {\"color\": \"blue\"}});\n",
       "\tviewer_1657218789057.addLabel(\"beta subunits\",{\"fontColor\": \"blue\", \"backgroundColor\": \"lightgray\"},{\"chain\": [\"C\", \"D\"]});\n",
       "viewer_1657218789057.render();\n",
       "})\n",
       "});\n",
       "</script>"
      ]
     },
     "metadata": {},
     "output_type": "display_data"
    }
   ],
   "source": [
    "hemoglobin.setStyle({'chain':['A','B']},{'cartoon': {'color': 'yellow'}}) # alpha subunits of hemoglobin\n",
    "hemoglobin.addLabel('alpha subunits', {'fontColor':'yellow', 'backgroundColor':'lightgray'}, {'chain': ['A','B']}) # adding a label                                              \n",
    "hemoglobin.setStyle({'chain':['C','D']},{'cartoon': {'color': 'blue'}}) # beta subunits of hemoglobin\n",
    "hemoglobin.addLabel('beta subunits', {'fontColor':'blue', 'backgroundColor':'lightgray'}, {'chain': ['C','D']}) #adding a label\n",
    "hemoglobin.show()"
   ]
  },
  {
   "cell_type": "markdown",
   "id": "07e915a9",
   "metadata": {},
   "source": [
    "## Visualizing Residues and Ligands\n",
    "\n",
    "We can also visualize the different residues and ligands interacting with the protein. Here, we will look at the waters interacting with the protein."
   ]
  },
  {
   "cell_type": "code",
   "execution_count": 59,
   "id": "c8bf38a3",
   "metadata": {},
   "outputs": [
    {
     "data": {
      "application/3dmoljs_load.v0": "<div id=\"3dmolviewer_1657217659025245\"  style=\"position: relative; width: 640px; height: 480px\">\n        <p id=\"3dmolwarning_1657217659025245\" style=\"background-color:#ffcccc;color:black\">You appear to be running in JupyterLab (or JavaScript failed to load for some other reason).  You need to install the 3dmol extension: <br>\n        <tt>jupyter labextension install jupyterlab_3dmol</tt></p>\n        </div>\n<script>\n\nvar loadScriptAsync = function(uri){\n  return new Promise((resolve, reject) => {\n    var tag = document.createElement('script');\n    tag.src = uri;\n    tag.async = true;\n    tag.onload = () => {\n      resolve();\n    };\n  var firstScriptTag = document.getElementsByTagName('script')[0];\n  firstScriptTag.parentNode.insertBefore(tag, firstScriptTag);\n});\n};\n\nif(typeof $3Dmolpromise === 'undefined') {\n$3Dmolpromise = null;\n  $3Dmolpromise = loadScriptAsync('https://3dmol.csb.pitt.edu/build/3Dmol.js');\n}\n\nvar viewer_1657217659025245 = null;\nvar warn = document.getElementById(\"3dmolwarning_1657217659025245\");\nif(warn) {\n    warn.parentNode.removeChild(warn);\n}\n$3Dmolpromise.then(function() {\nviewer_1657217659025245 = $3Dmol.createViewer($(\"#3dmolviewer_1657217659025245\"),{backgroundColor:\"white\"});\n$3Dmol.download(\"pdb:5WOG\", viewer_1657217659025245, {}, function() {\n\tviewer_1657217659025245.setStyle({\"cartoon\": {\"color\": \"spectrum\"}});\n\tviewer_1657217659025245.setStyle({\"hetflag\": true},{\"stick\": {\"radius\": 0.3, \"singleBond\": false}});\n\tviewer_1657217659025245.zoomTo();\n\tviewer_1657217659025245.setStyle({\"chain\": [\"A\", \"B\"]},{\"cartoon\": {\"color\": \"yellow\"}});\n\tviewer_1657217659025245.addLabel(\"alpha subunits\",{\"fontColor\": \"yellow\", \"backgroundColor\": \"lightgray\"},{\"chain\": [\"A\", \"B\"]});\n\tviewer_1657217659025245.setStyle({\"chain\": [\"C\", \"D\"]},{\"cartoon\": {\"color\": \"blue\"}});\n\tviewer_1657217659025245.addLabel(\"beta subunits\",{\"fontColor\": \"blue\", \"backgroundColor\": \"lightgray\"},{\"chain\": [\"C\", \"D\"]});\n\tviewer_1657217659025245.setStyle({\"resn\": \"HOH\"},{\"sphere\": {\"radius\": 0.5}});\nviewer_1657217659025245.render();\n})\n});\n</script>",
      "text/html": [
       "<div id=\"3dmolviewer_1657217659025245\"  style=\"position: relative; width: 640px; height: 480px\">\n",
       "        <p id=\"3dmolwarning_1657217659025245\" style=\"background-color:#ffcccc;color:black\">You appear to be running in JupyterLab (or JavaScript failed to load for some other reason).  You need to install the 3dmol extension: <br>\n",
       "        <tt>jupyter labextension install jupyterlab_3dmol</tt></p>\n",
       "        </div>\n",
       "<script>\n",
       "\n",
       "var loadScriptAsync = function(uri){\n",
       "  return new Promise((resolve, reject) => {\n",
       "    var tag = document.createElement('script');\n",
       "    tag.src = uri;\n",
       "    tag.async = true;\n",
       "    tag.onload = () => {\n",
       "      resolve();\n",
       "    };\n",
       "  var firstScriptTag = document.getElementsByTagName('script')[0];\n",
       "  firstScriptTag.parentNode.insertBefore(tag, firstScriptTag);\n",
       "});\n",
       "};\n",
       "\n",
       "if(typeof $3Dmolpromise === 'undefined') {\n",
       "$3Dmolpromise = null;\n",
       "  $3Dmolpromise = loadScriptAsync('https://3dmol.csb.pitt.edu/build/3Dmol.js');\n",
       "}\n",
       "\n",
       "var viewer_1657217659025245 = null;\n",
       "var warn = document.getElementById(\"3dmolwarning_1657217659025245\");\n",
       "if(warn) {\n",
       "    warn.parentNode.removeChild(warn);\n",
       "}\n",
       "$3Dmolpromise.then(function() {\n",
       "viewer_1657217659025245 = $3Dmol.createViewer($(\"#3dmolviewer_1657217659025245\"),{backgroundColor:\"white\"});\n",
       "$3Dmol.download(\"pdb:5WOG\", viewer_1657217659025245, {}, function() {\n",
       "\tviewer_1657217659025245.setStyle({\"cartoon\": {\"color\": \"spectrum\"}});\n",
       "\tviewer_1657217659025245.setStyle({\"hetflag\": true},{\"stick\": {\"radius\": 0.3, \"singleBond\": false}});\n",
       "\tviewer_1657217659025245.zoomTo();\n",
       "\tviewer_1657217659025245.setStyle({\"chain\": [\"A\", \"B\"]},{\"cartoon\": {\"color\": \"yellow\"}});\n",
       "\tviewer_1657217659025245.addLabel(\"alpha subunits\",{\"fontColor\": \"yellow\", \"backgroundColor\": \"lightgray\"},{\"chain\": [\"A\", \"B\"]});\n",
       "\tviewer_1657217659025245.setStyle({\"chain\": [\"C\", \"D\"]},{\"cartoon\": {\"color\": \"blue\"}});\n",
       "\tviewer_1657217659025245.addLabel(\"beta subunits\",{\"fontColor\": \"blue\", \"backgroundColor\": \"lightgray\"},{\"chain\": [\"C\", \"D\"]});\n",
       "\tviewer_1657217659025245.setStyle({\"resn\": \"HOH\"},{\"sphere\": {\"radius\": 0.5}});\n",
       "viewer_1657217659025245.render();\n",
       "})\n",
       "});\n",
       "</script>"
      ]
     },
     "metadata": {},
     "output_type": "display_data"
    }
   ],
   "source": [
    "hemoglobin.setStyle({'resn': 'HOH'}, {'sphere':{'radius':0.5}})\n",
    "hemoglobin.show()"
   ]
  },
  {
   "cell_type": "markdown",
   "id": "d52701ef",
   "metadata": {},
   "source": [
    "Now, turn the waters off"
   ]
  },
  {
   "cell_type": "code",
   "execution_count": 60,
   "id": "3b9a8d98",
   "metadata": {},
   "outputs": [
    {
     "data": {
      "application/3dmoljs_load.v0": "<div id=\"3dmolviewer_165721766168153\"  style=\"position: relative; width: 640px; height: 480px\">\n        <p id=\"3dmolwarning_165721766168153\" style=\"background-color:#ffcccc;color:black\">You appear to be running in JupyterLab (or JavaScript failed to load for some other reason).  You need to install the 3dmol extension: <br>\n        <tt>jupyter labextension install jupyterlab_3dmol</tt></p>\n        </div>\n<script>\n\nvar loadScriptAsync = function(uri){\n  return new Promise((resolve, reject) => {\n    var tag = document.createElement('script');\n    tag.src = uri;\n    tag.async = true;\n    tag.onload = () => {\n      resolve();\n    };\n  var firstScriptTag = document.getElementsByTagName('script')[0];\n  firstScriptTag.parentNode.insertBefore(tag, firstScriptTag);\n});\n};\n\nif(typeof $3Dmolpromise === 'undefined') {\n$3Dmolpromise = null;\n  $3Dmolpromise = loadScriptAsync('https://3dmol.csb.pitt.edu/build/3Dmol.js');\n}\n\nvar viewer_165721766168153 = null;\nvar warn = document.getElementById(\"3dmolwarning_165721766168153\");\nif(warn) {\n    warn.parentNode.removeChild(warn);\n}\n$3Dmolpromise.then(function() {\nviewer_165721766168153 = $3Dmol.createViewer($(\"#3dmolviewer_165721766168153\"),{backgroundColor:\"white\"});\n$3Dmol.download(\"pdb:5WOG\", viewer_165721766168153, {}, function() {\n\tviewer_165721766168153.setStyle({\"cartoon\": {\"color\": \"spectrum\"}});\n\tviewer_165721766168153.setStyle({\"hetflag\": true},{\"stick\": {\"radius\": 0.3, \"singleBond\": false}});\n\tviewer_165721766168153.zoomTo();\n\tviewer_165721766168153.setStyle({\"chain\": [\"A\", \"B\"]},{\"cartoon\": {\"color\": \"yellow\"}});\n\tviewer_165721766168153.addLabel(\"alpha subunits\",{\"fontColor\": \"yellow\", \"backgroundColor\": \"lightgray\"},{\"chain\": [\"A\", \"B\"]});\n\tviewer_165721766168153.setStyle({\"chain\": [\"C\", \"D\"]},{\"cartoon\": {\"color\": \"blue\"}});\n\tviewer_165721766168153.addLabel(\"beta subunits\",{\"fontColor\": \"blue\", \"backgroundColor\": \"lightgray\"},{\"chain\": [\"C\", \"D\"]});\n\tviewer_165721766168153.setStyle({\"resn\": \"HOH\"},{\"sphere\": {\"radius\": 0.5}});\n\tviewer_165721766168153.setStyle({\"resn\": \"HOH\"},{});\nviewer_165721766168153.render();\n})\n});\n</script>",
      "text/html": [
       "<div id=\"3dmolviewer_165721766168153\"  style=\"position: relative; width: 640px; height: 480px\">\n",
       "        <p id=\"3dmolwarning_165721766168153\" style=\"background-color:#ffcccc;color:black\">You appear to be running in JupyterLab (or JavaScript failed to load for some other reason).  You need to install the 3dmol extension: <br>\n",
       "        <tt>jupyter labextension install jupyterlab_3dmol</tt></p>\n",
       "        </div>\n",
       "<script>\n",
       "\n",
       "var loadScriptAsync = function(uri){\n",
       "  return new Promise((resolve, reject) => {\n",
       "    var tag = document.createElement('script');\n",
       "    tag.src = uri;\n",
       "    tag.async = true;\n",
       "    tag.onload = () => {\n",
       "      resolve();\n",
       "    };\n",
       "  var firstScriptTag = document.getElementsByTagName('script')[0];\n",
       "  firstScriptTag.parentNode.insertBefore(tag, firstScriptTag);\n",
       "});\n",
       "};\n",
       "\n",
       "if(typeof $3Dmolpromise === 'undefined') {\n",
       "$3Dmolpromise = null;\n",
       "  $3Dmolpromise = loadScriptAsync('https://3dmol.csb.pitt.edu/build/3Dmol.js');\n",
       "}\n",
       "\n",
       "var viewer_165721766168153 = null;\n",
       "var warn = document.getElementById(\"3dmolwarning_165721766168153\");\n",
       "if(warn) {\n",
       "    warn.parentNode.removeChild(warn);\n",
       "}\n",
       "$3Dmolpromise.then(function() {\n",
       "viewer_165721766168153 = $3Dmol.createViewer($(\"#3dmolviewer_165721766168153\"),{backgroundColor:\"white\"});\n",
       "$3Dmol.download(\"pdb:5WOG\", viewer_165721766168153, {}, function() {\n",
       "\tviewer_165721766168153.setStyle({\"cartoon\": {\"color\": \"spectrum\"}});\n",
       "\tviewer_165721766168153.setStyle({\"hetflag\": true},{\"stick\": {\"radius\": 0.3, \"singleBond\": false}});\n",
       "\tviewer_165721766168153.zoomTo();\n",
       "\tviewer_165721766168153.setStyle({\"chain\": [\"A\", \"B\"]},{\"cartoon\": {\"color\": \"yellow\"}});\n",
       "\tviewer_165721766168153.addLabel(\"alpha subunits\",{\"fontColor\": \"yellow\", \"backgroundColor\": \"lightgray\"},{\"chain\": [\"A\", \"B\"]});\n",
       "\tviewer_165721766168153.setStyle({\"chain\": [\"C\", \"D\"]},{\"cartoon\": {\"color\": \"blue\"}});\n",
       "\tviewer_165721766168153.addLabel(\"beta subunits\",{\"fontColor\": \"blue\", \"backgroundColor\": \"lightgray\"},{\"chain\": [\"C\", \"D\"]});\n",
       "\tviewer_165721766168153.setStyle({\"resn\": \"HOH\"},{\"sphere\": {\"radius\": 0.5}});\n",
       "\tviewer_165721766168153.setStyle({\"resn\": \"HOH\"},{});\n",
       "viewer_165721766168153.render();\n",
       "})\n",
       "});\n",
       "</script>"
      ]
     },
     "metadata": {},
     "output_type": "display_data"
    }
   ],
   "source": [
    "hemoglobin.setStyle({'resn': 'HOH'}, {})\n",
    "hemoglobin.show()"
   ]
  },
  {
   "cell_type": "markdown",
   "id": "bbacea01",
   "metadata": {},
   "source": [
    "### Exercise\n",
    "Try visualizing all the heme residues that interact with hemoglobin. The residue name for heme is \"HEM\""
   ]
  },
  {
   "cell_type": "markdown",
   "id": "59760698",
   "metadata": {},
   "source": [
    "### Exercise\n",
    "Try visualizing the protein with the PDB ID \"1JNX.\" This is the BRCT repeat region of the BRCA1 protein. Mutations in BRCA1 are commonly associated with breast cancer. Additionally, visualize the water residues that interact with this region."
   ]
  },
  {
   "cell_type": "markdown",
   "id": "d1c69b0e",
   "metadata": {},
   "source": [
    "## Visualizing specific amino acids\n",
    "\n",
    "Now let's visualize some specific amino acids on the hemoglobin protein. Here, we are looking at the 6th amino acid in the beta chains, which is a glutamine. Take a second to think about how changing this amino acid might affect the structure and function of the hemoglobin protein."
   ]
  },
  {
   "cell_type": "code",
   "execution_count": 63,
   "id": "d2b69e9e",
   "metadata": {},
   "outputs": [
    {
     "data": {
      "application/3dmoljs_load.v0": "<div id=\"3dmolviewer_1657218421553835\"  style=\"position: relative; width: 640px; height: 480px\">\n        <p id=\"3dmolwarning_1657218421553835\" style=\"background-color:#ffcccc;color:black\">You appear to be running in JupyterLab (or JavaScript failed to load for some other reason).  You need to install the 3dmol extension: <br>\n        <tt>jupyter labextension install jupyterlab_3dmol</tt></p>\n        </div>\n<script>\n\nvar loadScriptAsync = function(uri){\n  return new Promise((resolve, reject) => {\n    var tag = document.createElement('script');\n    tag.src = uri;\n    tag.async = true;\n    tag.onload = () => {\n      resolve();\n    };\n  var firstScriptTag = document.getElementsByTagName('script')[0];\n  firstScriptTag.parentNode.insertBefore(tag, firstScriptTag);\n});\n};\n\nif(typeof $3Dmolpromise === 'undefined') {\n$3Dmolpromise = null;\n  $3Dmolpromise = loadScriptAsync('https://3dmol.csb.pitt.edu/build/3Dmol.js');\n}\n\nvar viewer_1657218421553835 = null;\nvar warn = document.getElementById(\"3dmolwarning_1657218421553835\");\nif(warn) {\n    warn.parentNode.removeChild(warn);\n}\n$3Dmolpromise.then(function() {\nviewer_1657218421553835 = $3Dmol.createViewer($(\"#3dmolviewer_1657218421553835\"),{backgroundColor:\"white\"});\n$3Dmol.download(\"pdb:5WOG\", viewer_1657218421553835, {}, function() {\n\tviewer_1657218421553835.setStyle({\"cartoon\": {\"color\": \"spectrum\"}});\n\tviewer_1657218421553835.setStyle({\"hetflag\": true},{\"stick\": {\"radius\": 0.3, \"singleBond\": false}});\n\tviewer_1657218421553835.zoomTo();\n\tviewer_1657218421553835.setStyle({\"chain\": [\"A\", \"B\"]},{\"cartoon\": {\"color\": \"yellow\"}});\n\tviewer_1657218421553835.addLabel(\"alpha subunits\",{\"fontColor\": \"yellow\", \"backgroundColor\": \"lightgray\"},{\"chain\": [\"A\", \"B\"]});\n\tviewer_1657218421553835.setStyle({\"chain\": [\"C\", \"D\"]},{\"cartoon\": {\"color\": \"blue\"}});\n\tviewer_1657218421553835.addLabel(\"beta subunits\",{\"fontColor\": \"blue\", \"backgroundColor\": \"lightgray\"},{\"chain\": [\"C\", \"D\"]});\n\tviewer_1657218421553835.setStyle({\"resn\": \"HOH\"},{\"sphere\": {\"radius\": 0.5}});\n\tviewer_1657218421553835.setStyle({\"resn\": \"HOH\"},{});\n\tviewer_1657218421553835.setStyle({\"chain\": \"C\", \"resi\": \"6\"},{\"stick\": {\"colorscheme\": \"redCarbon\"}});\n\tviewer_1657218421553835.setStyle({\"chain\": \"C\", \"resi\": \"6\"},{\"stick\": {\"colorscheme\": \"redCarbon\"}});\n\tviewer_1657218421553835.setStyle({\"chain\": \"D\", \"resi\": \"6\"},{\"stick\": {\"colorscheme\": \"redCarbon\"}});\n\tviewer_1657218421553835.setStyle({\"chain\": \"C\", \"resi\": \"6\"},{\"stick\": {\"colorscheme\": \"redCarbon\"}});\n\tviewer_1657218421553835.setStyle({\"chain\": \"D\", \"resi\": \"6\"},{\"stick\": {\"colorscheme\": \"redCarbon\"}});\nviewer_1657218421553835.render();\n})\n});\n</script>",
      "text/html": [
       "<div id=\"3dmolviewer_1657218421553835\"  style=\"position: relative; width: 640px; height: 480px\">\n",
       "        <p id=\"3dmolwarning_1657218421553835\" style=\"background-color:#ffcccc;color:black\">You appear to be running in JupyterLab (or JavaScript failed to load for some other reason).  You need to install the 3dmol extension: <br>\n",
       "        <tt>jupyter labextension install jupyterlab_3dmol</tt></p>\n",
       "        </div>\n",
       "<script>\n",
       "\n",
       "var loadScriptAsync = function(uri){\n",
       "  return new Promise((resolve, reject) => {\n",
       "    var tag = document.createElement('script');\n",
       "    tag.src = uri;\n",
       "    tag.async = true;\n",
       "    tag.onload = () => {\n",
       "      resolve();\n",
       "    };\n",
       "  var firstScriptTag = document.getElementsByTagName('script')[0];\n",
       "  firstScriptTag.parentNode.insertBefore(tag, firstScriptTag);\n",
       "});\n",
       "};\n",
       "\n",
       "if(typeof $3Dmolpromise === 'undefined') {\n",
       "$3Dmolpromise = null;\n",
       "  $3Dmolpromise = loadScriptAsync('https://3dmol.csb.pitt.edu/build/3Dmol.js');\n",
       "}\n",
       "\n",
       "var viewer_1657218421553835 = null;\n",
       "var warn = document.getElementById(\"3dmolwarning_1657218421553835\");\n",
       "if(warn) {\n",
       "    warn.parentNode.removeChild(warn);\n",
       "}\n",
       "$3Dmolpromise.then(function() {\n",
       "viewer_1657218421553835 = $3Dmol.createViewer($(\"#3dmolviewer_1657218421553835\"),{backgroundColor:\"white\"});\n",
       "$3Dmol.download(\"pdb:5WOG\", viewer_1657218421553835, {}, function() {\n",
       "\tviewer_1657218421553835.setStyle({\"cartoon\": {\"color\": \"spectrum\"}});\n",
       "\tviewer_1657218421553835.setStyle({\"hetflag\": true},{\"stick\": {\"radius\": 0.3, \"singleBond\": false}});\n",
       "\tviewer_1657218421553835.zoomTo();\n",
       "\tviewer_1657218421553835.setStyle({\"chain\": [\"A\", \"B\"]},{\"cartoon\": {\"color\": \"yellow\"}});\n",
       "\tviewer_1657218421553835.addLabel(\"alpha subunits\",{\"fontColor\": \"yellow\", \"backgroundColor\": \"lightgray\"},{\"chain\": [\"A\", \"B\"]});\n",
       "\tviewer_1657218421553835.setStyle({\"chain\": [\"C\", \"D\"]},{\"cartoon\": {\"color\": \"blue\"}});\n",
       "\tviewer_1657218421553835.addLabel(\"beta subunits\",{\"fontColor\": \"blue\", \"backgroundColor\": \"lightgray\"},{\"chain\": [\"C\", \"D\"]});\n",
       "\tviewer_1657218421553835.setStyle({\"resn\": \"HOH\"},{\"sphere\": {\"radius\": 0.5}});\n",
       "\tviewer_1657218421553835.setStyle({\"resn\": \"HOH\"},{});\n",
       "\tviewer_1657218421553835.setStyle({\"chain\": \"C\", \"resi\": \"6\"},{\"stick\": {\"colorscheme\": \"redCarbon\"}});\n",
       "\tviewer_1657218421553835.setStyle({\"chain\": \"C\", \"resi\": \"6\"},{\"stick\": {\"colorscheme\": \"redCarbon\"}});\n",
       "\tviewer_1657218421553835.setStyle({\"chain\": \"D\", \"resi\": \"6\"},{\"stick\": {\"colorscheme\": \"redCarbon\"}});\n",
       "\tviewer_1657218421553835.setStyle({\"chain\": \"C\", \"resi\": \"6\"},{\"stick\": {\"colorscheme\": \"redCarbon\"}});\n",
       "\tviewer_1657218421553835.setStyle({\"chain\": \"D\", \"resi\": \"6\"},{\"stick\": {\"colorscheme\": \"redCarbon\"}});\n",
       "viewer_1657218421553835.render();\n",
       "})\n",
       "});\n",
       "</script>"
      ]
     },
     "metadata": {},
     "output_type": "display_data"
    }
   ],
   "source": [
    "hemoglobin.setStyle({'chain': 'C', 'resi': '6'},{'stick': {'colorscheme': 'redCarbon'}})\n",
    "hemoglobin.setStyle({'chain': 'D', 'resi': '6'},{'stick': {'colorscheme': 'redCarbon'}})\n",
    "hemoglobin.show()"
   ]
  },
  {
   "cell_type": "markdown",
   "id": "0d72e324",
   "metadata": {},
   "source": [
    "In people affected with sickle cell anemia, this glutamine is changed to a valine. Molecules of sickle cell affected hemoglobin stick to one another, forming rigid rods. These rods cause a person's red blood cells to take on a deformed, sickle-like shape. These blood cells do not carry oxygen well, and they also tend to clog capillaries. So, when a person affected by sickle cell anemia exerts themselves even slightly, they often experience terrible pain, and might even undergo heart attack or stroke—all because of a single substitution!"
   ]
  },
  {
   "cell_type": "markdown",
   "id": "bb1732d2",
   "metadata": {},
   "source": [
    "### Exercise\n",
    "\n",
    "Visualize the 1775th amino acid (a methionine) of the BRCT region of the BRCA1 protein that you visualized earlier. How would replacing this amino acid affect the protein? \n",
    "\n",
    "Researchers from the University of Alberta in Canada tried replacing this methionine with an arginine. You can read more about the effects it had in this paper: https://www.sciencedirect.com/science/article/pii/S0021925819310270?via%3Dihub"
   ]
  },
  {
   "cell_type": "markdown",
   "id": "43118136",
   "metadata": {},
   "source": [
    "**Acknowledgements**: This tutorial was adapted from the MMTF-2018 Workshop & Hackathon, hosted by Dr. Peter W. Rose at the University of California, San Diego.  "
   ]
  }
 ],
 "metadata": {
  "kernelspec": {
   "display_name": "Python 3 (ipykernel)",
   "language": "python",
   "name": "python3"
  },
  "language_info": {
   "codemirror_mode": {
    "name": "ipython",
    "version": 3
   },
   "file_extension": ".py",
   "mimetype": "text/x-python",
   "name": "python",
   "nbconvert_exporter": "python",
   "pygments_lexer": "ipython3",
   "version": "3.7.12"
  }
 },
 "nbformat": 4,
 "nbformat_minor": 5
}
